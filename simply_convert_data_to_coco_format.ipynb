{
  "nbformat": 4,
  "nbformat_minor": 0,
  "metadata": {
    "kernelspec": {
      "display_name": "Python 3",
      "language": "python",
      "name": "python3"
    },
    "language_info": {
      "codemirror_mode": {
        "name": "ipython",
        "version": 3
      },
      "file_extension": ".py",
      "mimetype": "text/x-python",
      "name": "python",
      "nbconvert_exporter": "python",
      "pygments_lexer": "ipython3",
      "version": "3.7.6"
    },
    "colab": {
      "name": "simply-convert-data-to-coco-format.ipynb",
      "provenance": []
    },
    "accelerator": "GPU"
  },
  "cells": [
    {
      "cell_type": "markdown",
      "metadata": {
        "id": "ZtrZWV8q5_4U",
        "colab_type": "text"
      },
      "source": [
        "## Simply Convert Data to COCO Format\n",
        "\n",
        "- Split the training data to train and validation\n",
        "- Convert both to COCO Formatted JSON"
      ]
    },
    {
      "cell_type": "code",
      "metadata": {
        "id": "RIKa6VOx6YrX",
        "colab_type": "code",
        "colab": {
          "base_uri": "https://localhost:8080/",
          "height": 34
        },
        "outputId": "4c64f4ed-1849-4a96-c117-8e789ee12037"
      },
      "source": [
        "from google.colab import drive\n",
        "drive.mount('/content/drive/')"
      ],
      "execution_count": null,
      "outputs": [
        {
          "output_type": "stream",
          "text": [
            "Drive already mounted at /content/drive/; to attempt to forcibly remount, call drive.mount(\"/content/drive/\", force_remount=True).\n"
          ],
          "name": "stdout"
        }
      ]
    },
    {
      "cell_type": "code",
      "metadata": {
        "id": "MaaDRKeY5_4V",
        "colab_type": "code",
        "colab": {}
      },
      "source": [
        "# Some basic setup:\n",
        "# import some common libraries\n",
        "import numpy as np\n",
        "import pandas as pd\n",
        "import os\n",
        "import json\n",
        "import random\n",
        "import cv2\n",
        "import matplotlib.pyplot as plt\n",
        "import ast\n",
        "from tqdm import tqdm\n",
        "from sklearn.model_selection import train_test_split"
      ],
      "execution_count": null,
      "outputs": []
    },
    {
      "cell_type": "code",
      "metadata": {
        "id": "aOMXNgXO5_4a",
        "colab_type": "code",
        "colab": {}
      },
      "source": [
        "TOP_INPUT_DIR = \"/content/drive/My Drive/GWD/global-wheat-detection/\"\n",
        "DATA_TRAIN_DIR = f\"{TOP_INPUT_DIR}train/\"\n",
        "DATA_TEST_DIR = f\"{TOP_INPUT_DIR}test/\""
      ],
      "execution_count": null,
      "outputs": []
    },
    {
      "cell_type": "markdown",
      "metadata": {
        "id": "eXnhdRfZ5_4e",
        "colab_type": "text"
      },
      "source": [
        "### Create COCO Base"
      ]
    },
    {
      "cell_type": "code",
      "metadata": {
        "_cell_guid": "79c7e3d0-c299-4dcb-8224-4455121ee9b0",
        "_uuid": "d629ff2d2480ee46fbb7e2d37f6b5fab8052498a",
        "id": "qJ5nD4GT5_4f",
        "colab_type": "code",
        "colab": {}
      },
      "source": [
        "coco_base = { \"info\": {},\n",
        "              \"licenses\": [], \n",
        "              \"images\": [],\n",
        "              \"annotations\": [],\n",
        "              \"categories\": []}"
      ],
      "execution_count": null,
      "outputs": []
    },
    {
      "cell_type": "markdown",
      "metadata": {
        "id": "nTRL5W1w5_4i",
        "colab_type": "text"
      },
      "source": [
        "### Write dataset info to COCO Format "
      ]
    },
    {
      "cell_type": "code",
      "metadata": {
        "id": "Ba83Uz5Y5_4i",
        "colab_type": "code",
        "colab": {}
      },
      "source": [
        "coco_base[\"info\"] = {\n",
        "    \"description\": \"Global Wheat Detection Dataset, Kaggle 2020\",\n",
        "    \"url\": \"https://www.kaggle.com/c/global-wheat-detection/data\",\n",
        "    \"version\": \"1.0\",\n",
        "    \"year\": 2020,\n",
        "    \"contributor\": \"http://www.global-wheat.com/contributors/\",\n",
        "    \"date_created\": \"2020/05/29\"\n",
        "}"
      ],
      "execution_count": null,
      "outputs": []
    },
    {
      "cell_type": "markdown",
      "metadata": {
        "id": "YAxbS9M15_4l",
        "colab_type": "text"
      },
      "source": [
        "### Write licenses to COCO Format"
      ]
    },
    {
      "cell_type": "code",
      "metadata": {
        "id": "JMmGO-wF5_4m",
        "colab_type": "code",
        "colab": {}
      },
      "source": [
        "coco_base[\"licenses\"].append(\n",
        "    {\n",
        "        \"url\": \"https://opensource.org/licenses/MIT\",\n",
        "        \"id\": 1,\n",
        "        \"name\": \"MIT License\"\n",
        "    }\n",
        ")"
      ],
      "execution_count": null,
      "outputs": []
    },
    {
      "cell_type": "markdown",
      "metadata": {
        "id": "9Dz2zpRb5_4p",
        "colab_type": "text"
      },
      "source": [
        "### Write category to COCO Format"
      ]
    },
    {
      "cell_type": "code",
      "metadata": {
        "id": "iPYIpDkj5_4q",
        "colab_type": "code",
        "colab": {}
      },
      "source": [
        "coco_base[\"categories\"].append({\"supercategory\": \"grain\",\"id\": 1,\"name\": \"wheat\"})"
      ],
      "execution_count": null,
      "outputs": []
    },
    {
      "cell_type": "code",
      "metadata": {
        "id": "5M74XXXE5_4u",
        "colab_type": "code",
        "colab": {
          "base_uri": "https://localhost:8080/",
          "height": 204
        },
        "outputId": "b6f00844-87c3-4bf5-c774-aadccbd06853"
      },
      "source": [
        "train_df = pd.read_csv(f'{TOP_INPUT_DIR}train.csv')\n",
        "train_df.head()"
      ],
      "execution_count": null,
      "outputs": [
        {
          "output_type": "execute_result",
          "data": {
            "text/html": [
              "<div>\n",
              "<style scoped>\n",
              "    .dataframe tbody tr th:only-of-type {\n",
              "        vertical-align: middle;\n",
              "    }\n",
              "\n",
              "    .dataframe tbody tr th {\n",
              "        vertical-align: top;\n",
              "    }\n",
              "\n",
              "    .dataframe thead th {\n",
              "        text-align: right;\n",
              "    }\n",
              "</style>\n",
              "<table border=\"1\" class=\"dataframe\">\n",
              "  <thead>\n",
              "    <tr style=\"text-align: right;\">\n",
              "      <th></th>\n",
              "      <th>image_id</th>\n",
              "      <th>width</th>\n",
              "      <th>height</th>\n",
              "      <th>bbox</th>\n",
              "      <th>source</th>\n",
              "    </tr>\n",
              "  </thead>\n",
              "  <tbody>\n",
              "    <tr>\n",
              "      <th>0</th>\n",
              "      <td>b6ab77fd7</td>\n",
              "      <td>1024</td>\n",
              "      <td>1024</td>\n",
              "      <td>[834.0, 222.0, 56.0, 36.0]</td>\n",
              "      <td>usask_1</td>\n",
              "    </tr>\n",
              "    <tr>\n",
              "      <th>1</th>\n",
              "      <td>b6ab77fd7</td>\n",
              "      <td>1024</td>\n",
              "      <td>1024</td>\n",
              "      <td>[226.0, 548.0, 130.0, 58.0]</td>\n",
              "      <td>usask_1</td>\n",
              "    </tr>\n",
              "    <tr>\n",
              "      <th>2</th>\n",
              "      <td>b6ab77fd7</td>\n",
              "      <td>1024</td>\n",
              "      <td>1024</td>\n",
              "      <td>[377.0, 504.0, 74.0, 160.0]</td>\n",
              "      <td>usask_1</td>\n",
              "    </tr>\n",
              "    <tr>\n",
              "      <th>3</th>\n",
              "      <td>b6ab77fd7</td>\n",
              "      <td>1024</td>\n",
              "      <td>1024</td>\n",
              "      <td>[834.0, 95.0, 109.0, 107.0]</td>\n",
              "      <td>usask_1</td>\n",
              "    </tr>\n",
              "    <tr>\n",
              "      <th>4</th>\n",
              "      <td>b6ab77fd7</td>\n",
              "      <td>1024</td>\n",
              "      <td>1024</td>\n",
              "      <td>[26.0, 144.0, 124.0, 117.0]</td>\n",
              "      <td>usask_1</td>\n",
              "    </tr>\n",
              "  </tbody>\n",
              "</table>\n",
              "</div>"
            ],
            "text/plain": [
              "    image_id  width  height                         bbox   source\n",
              "0  b6ab77fd7   1024    1024   [834.0, 222.0, 56.0, 36.0]  usask_1\n",
              "1  b6ab77fd7   1024    1024  [226.0, 548.0, 130.0, 58.0]  usask_1\n",
              "2  b6ab77fd7   1024    1024  [377.0, 504.0, 74.0, 160.0]  usask_1\n",
              "3  b6ab77fd7   1024    1024  [834.0, 95.0, 109.0, 107.0]  usask_1\n",
              "4  b6ab77fd7   1024    1024  [26.0, 144.0, 124.0, 117.0]  usask_1"
            ]
          },
          "metadata": {
            "tags": []
          },
          "execution_count": 25
        }
      ]
    },
    {
      "cell_type": "code",
      "metadata": {
        "id": "ttWibA-45_4y",
        "colab_type": "code",
        "colab": {
          "base_uri": "https://localhost:8080/",
          "height": 34
        },
        "outputId": "eea9b3e3-7dfb-4016-d13d-5777c772a4db"
      },
      "source": [
        "uniq_images = train_df.image_id.unique()\n",
        "len(uniq_images)"
      ],
      "execution_count": null,
      "outputs": [
        {
          "output_type": "execute_result",
          "data": {
            "text/plain": [
              "3373"
            ]
          },
          "metadata": {
            "tags": []
          },
          "execution_count": 26
        }
      ]
    },
    {
      "cell_type": "markdown",
      "metadata": {
        "id": "ZT7yc7py5_41",
        "colab_type": "text"
      },
      "source": [
        "#### There are 3373 unique images in the training set"
      ]
    },
    {
      "cell_type": "code",
      "metadata": {
        "id": "C3ITBD4Q5_42",
        "colab_type": "code",
        "colab": {
          "base_uri": "https://localhost:8080/",
          "height": 51
        },
        "outputId": "cf260ab4-8ec9-4217-dfc3-aef22f213557"
      },
      "source": [
        "print(train_df.width.unique()[0])\n",
        "print(train_df.height.unique()[0])"
      ],
      "execution_count": null,
      "outputs": [
        {
          "output_type": "stream",
          "text": [
            "1024\n",
            "1024\n"
          ],
          "name": "stdout"
        }
      ]
    },
    {
      "cell_type": "markdown",
      "metadata": {
        "id": "GmvpmQvV5_46",
        "colab_type": "text"
      },
      "source": [
        "#### All images are of size 1024x1024"
      ]
    },
    {
      "cell_type": "markdown",
      "metadata": {
        "id": "wREi7Ce75_47",
        "colab_type": "text"
      },
      "source": [
        "### Group bboxes by image\n",
        "\n",
        "Create one row per image - combining all bboxes for that image into one column. This helps significantly reduce the number of rows to traverse."
      ]
    },
    {
      "cell_type": "code",
      "metadata": {
        "id": "-SGDUhGG5_47",
        "colab_type": "code",
        "colab": {}
      },
      "source": [
        "def get_bboxes_per_image(df):\n",
        "    \"\"\"author: @impiyush\"\"\"\n",
        "    # convert from string list, to python list\n",
        "    df.bbox = df.bbox.apply(ast.literal_eval)\n",
        "    # group-by on image id and return all bboxes for that image as a list of lists\n",
        "    return train_df.groupby('image_id')['bbox'].apply(list).reset_index(name='bboxes')"
      ],
      "execution_count": null,
      "outputs": []
    },
    {
      "cell_type": "code",
      "metadata": {
        "id": "34AtuSHJ5_4_",
        "colab_type": "code",
        "colab": {
          "base_uri": "https://localhost:8080/",
          "height": 204
        },
        "outputId": "9a8e78e1-5bec-444a-e306-862ce04fae7d"
      },
      "source": [
        "train_df_bboxes_grped = get_bboxes_per_image(train_df)\n",
        "train_df_bboxes_grped.head()"
      ],
      "execution_count": null,
      "outputs": [
        {
          "output_type": "execute_result",
          "data": {
            "text/html": [
              "<div>\n",
              "<style scoped>\n",
              "    .dataframe tbody tr th:only-of-type {\n",
              "        vertical-align: middle;\n",
              "    }\n",
              "\n",
              "    .dataframe tbody tr th {\n",
              "        vertical-align: top;\n",
              "    }\n",
              "\n",
              "    .dataframe thead th {\n",
              "        text-align: right;\n",
              "    }\n",
              "</style>\n",
              "<table border=\"1\" class=\"dataframe\">\n",
              "  <thead>\n",
              "    <tr style=\"text-align: right;\">\n",
              "      <th></th>\n",
              "      <th>image_id</th>\n",
              "      <th>bboxes</th>\n",
              "    </tr>\n",
              "  </thead>\n",
              "  <tbody>\n",
              "    <tr>\n",
              "      <th>0</th>\n",
              "      <td>00333207f</td>\n",
              "      <td>[[0, 654, 37, 111], [0, 817, 135, 98], [0, 192...</td>\n",
              "    </tr>\n",
              "    <tr>\n",
              "      <th>1</th>\n",
              "      <td>005b0d8bb</td>\n",
              "      <td>[[765.0, 879.0, 116.0, 79.0], [84.0, 539.0, 15...</td>\n",
              "    </tr>\n",
              "    <tr>\n",
              "      <th>2</th>\n",
              "      <td>006a994f7</td>\n",
              "      <td>[[437.0, 988.0, 98.0, 36.0], [309.0, 527.0, 11...</td>\n",
              "    </tr>\n",
              "    <tr>\n",
              "      <th>3</th>\n",
              "      <td>00764ad5d</td>\n",
              "      <td>[[89.0, 256.0, 113.0, 107.0], [216.0, 282.0, 1...</td>\n",
              "    </tr>\n",
              "    <tr>\n",
              "      <th>4</th>\n",
              "      <td>00b5fefed</td>\n",
              "      <td>[[709.0, 97.0, 204.0, 105.0], [775.0, 250.0, 1...</td>\n",
              "    </tr>\n",
              "  </tbody>\n",
              "</table>\n",
              "</div>"
            ],
            "text/plain": [
              "    image_id                                             bboxes\n",
              "0  00333207f  [[0, 654, 37, 111], [0, 817, 135, 98], [0, 192...\n",
              "1  005b0d8bb  [[765.0, 879.0, 116.0, 79.0], [84.0, 539.0, 15...\n",
              "2  006a994f7  [[437.0, 988.0, 98.0, 36.0], [309.0, 527.0, 11...\n",
              "3  00764ad5d  [[89.0, 256.0, 113.0, 107.0], [216.0, 282.0, 1...\n",
              "4  00b5fefed  [[709.0, 97.0, 204.0, 105.0], [775.0, 250.0, 1..."
            ]
          },
          "metadata": {
            "tags": []
          },
          "execution_count": 29
        }
      ]
    },
    {
      "cell_type": "code",
      "metadata": {
        "id": "MofHSPiw5_5C",
        "colab_type": "code",
        "colab": {}
      },
      "source": [
        "assert train_df_bboxes_grped.shape[0] == len(uniq_images), \"Number of images differ when grouped\""
      ],
      "execution_count": null,
      "outputs": []
    },
    {
      "cell_type": "markdown",
      "metadata": {
        "id": "QJ5uf1uC5_5F",
        "colab_type": "text"
      },
      "source": [
        "### Split to train and validation"
      ]
    },
    {
      "cell_type": "code",
      "metadata": {
        "id": "2Qah98sz5_5H",
        "colab_type": "code",
        "colab": {}
      },
      "source": [
        "df_train, df_valid = train_test_split(\n",
        "    train_df_bboxes_grped,\n",
        "    test_size=0.05,\n",
        "    random_state=32,\n",
        "    shuffle=True\n",
        ")\n",
        "\n",
        "df_train = df_train.reset_index(drop=True)\n",
        "df_valid = df_valid.reset_index(drop=True)"
      ],
      "execution_count": null,
      "outputs": []
    },
    {
      "cell_type": "code",
      "metadata": {
        "id": "rfd00lnb5_5L",
        "colab_type": "code",
        "colab": {
          "base_uri": "https://localhost:8080/",
          "height": 34
        },
        "outputId": "40f371bc-b756-484e-e7ef-7b14429a69f9"
      },
      "source": [
        "print(df_train.shape[0], df_valid.shape[0])"
      ],
      "execution_count": null,
      "outputs": [
        {
          "output_type": "stream",
          "text": [
            "3204 169\n"
          ],
          "name": "stdout"
        }
      ]
    },
    {
      "cell_type": "markdown",
      "metadata": {
        "id": "uIEtCKID5_5Q",
        "colab_type": "text"
      },
      "source": [
        "### Write images to COCO Format"
      ]
    },
    {
      "cell_type": "code",
      "metadata": {
        "id": "mwn7RAj05_5S",
        "colab_type": "code",
        "colab": {}
      },
      "source": [
        "coco_base_train = coco_base.copy()\n",
        "coco_base_valid = coco_base.copy()"
      ],
      "execution_count": null,
      "outputs": []
    },
    {
      "cell_type": "code",
      "metadata": {
        "id": "B3pwzO9w5_5W",
        "colab_type": "code",
        "colab": {}
      },
      "source": [
        "def set_coco_images(df):\n",
        "    \"\"\"author: @impiyush\"\"\"\n",
        "    images = []\n",
        "    for _,img in enumerate(tqdm(df.image_id.unique())):\n",
        "        img_dict = {\"license\":1, \n",
        "                    \"height\":1024, \n",
        "                    \"width\":1024,\n",
        "                    \"id\":img}\n",
        "        img_dict[\"file_name\"] = f\"{img}.jpg\"\n",
        "        images.append(img_dict)\n",
        "\n",
        "    return images"
      ],
      "execution_count": null,
      "outputs": []
    },
    {
      "cell_type": "code",
      "metadata": {
        "id": "VMa2QTvr5_5a",
        "colab_type": "code",
        "colab": {
          "base_uri": "https://localhost:8080/",
          "height": 51
        },
        "outputId": "3f80473f-929e-4021-9fda-080d4744ea5a"
      },
      "source": [
        "coco_base_train[\"images\"] = set_coco_images(df_train)\n",
        "coco_base_valid[\"images\"] = set_coco_images(df_valid)"
      ],
      "execution_count": null,
      "outputs": [
        {
          "output_type": "stream",
          "text": [
            "100%|██████████| 3204/3204 [00:00<00:00, 186602.47it/s]\n",
            "100%|██████████| 169/169 [00:00<00:00, 314061.75it/s]\n"
          ],
          "name": "stderr"
        }
      ]
    },
    {
      "cell_type": "markdown",
      "metadata": {
        "id": "SPfx3Hzw5_5d",
        "colab_type": "text"
      },
      "source": [
        "Let's check the first three images in the list"
      ]
    },
    {
      "cell_type": "code",
      "metadata": {
        "id": "iEBuJhrr5_5d",
        "colab_type": "code",
        "colab": {
          "base_uri": "https://localhost:8080/",
          "height": 272
        },
        "outputId": "bc1a9250-64e9-4044-f475-1f0312e24ddf"
      },
      "source": [
        "coco_base_train[\"images\"][:3]"
      ],
      "execution_count": null,
      "outputs": [
        {
          "output_type": "execute_result",
          "data": {
            "text/plain": [
              "[{'file_name': '75791012a.jpg',\n",
              "  'height': 1024,\n",
              "  'id': '75791012a',\n",
              "  'license': 1,\n",
              "  'width': 1024},\n",
              " {'file_name': 'a586f39dd.jpg',\n",
              "  'height': 1024,\n",
              "  'id': 'a586f39dd',\n",
              "  'license': 1,\n",
              "  'width': 1024},\n",
              " {'file_name': '2c534b9b6.jpg',\n",
              "  'height': 1024,\n",
              "  'id': '2c534b9b6',\n",
              "  'license': 1,\n",
              "  'width': 1024}]"
            ]
          },
          "metadata": {
            "tags": []
          },
          "execution_count": 36
        }
      ]
    },
    {
      "cell_type": "code",
      "metadata": {
        "id": "P-njfEvi5_5h",
        "colab_type": "code",
        "colab": {
          "base_uri": "https://localhost:8080/",
          "height": 272
        },
        "outputId": "87564971-45a6-4d73-b6c2-9bcfaf826bac"
      },
      "source": [
        "coco_base_valid[\"images\"][:3]"
      ],
      "execution_count": null,
      "outputs": [
        {
          "output_type": "execute_result",
          "data": {
            "text/plain": [
              "[{'file_name': 'ab8fa9772.jpg',\n",
              "  'height': 1024,\n",
              "  'id': 'ab8fa9772',\n",
              "  'license': 1,\n",
              "  'width': 1024},\n",
              " {'file_name': '3f8f6b1a1.jpg',\n",
              "  'height': 1024,\n",
              "  'id': '3f8f6b1a1',\n",
              "  'license': 1,\n",
              "  'width': 1024},\n",
              " {'file_name': 'f1ecbf9d4.jpg',\n",
              "  'height': 1024,\n",
              "  'id': 'f1ecbf9d4',\n",
              "  'license': 1,\n",
              "  'width': 1024}]"
            ]
          },
          "metadata": {
            "tags": []
          },
          "execution_count": 37
        }
      ]
    },
    {
      "cell_type": "markdown",
      "metadata": {
        "id": "LlWpVTOw5_5k",
        "colab_type": "text"
      },
      "source": [
        "Let's also verify the number of images match, just for sanity"
      ]
    },
    {
      "cell_type": "code",
      "metadata": {
        "id": "jJJdtQB25_5k",
        "colab_type": "code",
        "colab": {}
      },
      "source": [
        "assert len(coco_base_train[\"images\"])==len(df_train), \"Number of images differ from df_train\"\n",
        "assert len(coco_base_valid[\"images\"])==len(df_valid), \"Number of images differ from df_valid\""
      ],
      "execution_count": null,
      "outputs": []
    },
    {
      "cell_type": "markdown",
      "metadata": {
        "id": "oU3I2ngy5_5n",
        "colab_type": "text"
      },
      "source": [
        "### Write annotations to COCO Format\n",
        "\n",
        "The most important piece of this puzzle"
      ]
    },
    {
      "cell_type": "code",
      "metadata": {
        "id": "vFWpWe3e5_5n",
        "colab_type": "code",
        "colab": {}
      },
      "source": [
        "def set_coco_annotations(df):\n",
        "    \"\"\"author: @impiyush\"\"\"\n",
        "    annos = []\n",
        "    id_cnt = 1\n",
        "\n",
        "    for _,row in tqdm(df.iterrows(), total=len(df)):\n",
        "    #     print(row)\n",
        "        anno = {}\n",
        "        anno['segmentation'] = []\n",
        "        anno['iscrowd'] = 0\n",
        "        anno['image_id'] = row['image_id']\n",
        "        anno['category_id'] = 1\n",
        "        bboxes = row['bboxes']\n",
        "    #     annos.append(box)\n",
        "        for ix, box in enumerate(bboxes):\n",
        "            anno['bbox'] = box # x,y,w,h\n",
        "            anno['area'] = box[2] * box[3] # w*h\n",
        "            anno['id'] = f\"{id_cnt:05}\"\n",
        "            annos.append(anno.copy()) # copy is necessary here, otherwise it will always point to the last value of anno\n",
        "            id_cnt += 1\n",
        "    \n",
        "    return annos"
      ],
      "execution_count": null,
      "outputs": []
    },
    {
      "cell_type": "code",
      "metadata": {
        "id": "ibwZP3F95_5q",
        "colab_type": "code",
        "colab": {
          "base_uri": "https://localhost:8080/",
          "height": 51
        },
        "outputId": "7a7030b5-44c0-49b8-f7a2-122bbbcb57c5"
      },
      "source": [
        "coco_base_train['annotations'] = set_coco_annotations(df_train)\n",
        "coco_base_valid['annotations'] = set_coco_annotations(df_valid)"
      ],
      "execution_count": null,
      "outputs": [
        {
          "output_type": "stream",
          "text": [
            "100%|██████████| 3204/3204 [00:00<00:00, 4443.25it/s]\n",
            "100%|██████████| 169/169 [00:00<00:00, 4264.86it/s]\n"
          ],
          "name": "stderr"
        }
      ]
    },
    {
      "cell_type": "markdown",
      "metadata": {
        "id": "9dLIkaVx5_5t",
        "colab_type": "text"
      },
      "source": [
        "### Dump COCO formatted JSON for train and validation sets"
      ]
    },
    {
      "cell_type": "code",
      "metadata": {
        "id": "Ydcwaea65_5t",
        "colab_type": "code",
        "colab": {}
      },
      "source": [
        "with open(f'/content/drive/My Drive/GWD/coco_train.json','w') as train_coco:\n",
        "    json.dump(coco_base_train, train_coco)"
      ],
      "execution_count": null,
      "outputs": []
    },
    {
      "cell_type": "code",
      "metadata": {
        "id": "rLs0___95_5w",
        "colab_type": "code",
        "colab": {}
      },
      "source": [
        "with open(f'/content/drive/My Drive/GWD/coco_valid.json','w') as valid_coco:\n",
        "    json.dump(coco_base_valid, valid_coco)"
      ],
      "execution_count": null,
      "outputs": []
    },
    {
      "cell_type": "code",
      "metadata": {
        "id": "QsIZgCRALcZK",
        "colab_type": "code",
        "colab": {}
      },
      "source": [
        "with open(f'/content/drive/My Drive/GWD/coco_test.json','w') as valid_cocoс:\n",
        "    json.dump(None, valid_cocoс)"
      ],
      "execution_count": null,
      "outputs": []
    },
    {
      "cell_type": "markdown",
      "metadata": {
        "id": "heWc7wDm5_50",
        "colab_type": "text"
      },
      "source": [
        "### There you go, now you have your data in COCO Format. Hope you liked this quick Kernel!"
      ]
    }
  ]
}